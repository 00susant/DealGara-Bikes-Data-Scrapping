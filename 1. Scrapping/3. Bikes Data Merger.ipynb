{
 "cells": [
  {
   "cell_type": "code",
   "execution_count": 21,
   "metadata": {},
   "outputs": [
    {
     "name": "stdout",
     "output_type": "stream",
     "text": [
      "['bajaj_bikes.json', 'hero_bikes.json', 'honda_bikes.json', 'ktm_bikes.json', 'royal_enfield_bikes.json', 'suzuki_bikes.json', 'tvs_bikes.json', 'yamaha_bikes.json']\n"
     ]
    }
   ],
   "source": [
    "\n",
    "import os\n",
    "import glob\n",
    "\n",
    "path = 'C:/Users/Susant/Desktop/Data Science/Web Scrapping/DealGara/Data'\n",
    "\n",
    "extension = 'json'\n",
    "os.chdir(path)\n",
    "titles = glob.glob('*.{}'.format(extension))\n",
    "print(titles)"
   ]
  },
  {
   "cell_type": "code",
   "execution_count": 22,
   "metadata": {},
   "outputs": [
    {
     "data": {
      "text/plain": [
       "'C:\\\\Users\\\\Susant\\\\Desktop\\\\Data Science\\\\Web Scrapping\\\\DealGara\\\\Data'"
      ]
     },
     "execution_count": 22,
     "metadata": {},
     "output_type": "execute_result"
    }
   ],
   "source": [
    "os.getcwd()"
   ]
  },
  {
   "cell_type": "code",
   "execution_count": 25,
   "metadata": {},
   "outputs": [],
   "source": [
    "# Function: saving the above dictionary into json\n",
    "\n",
    "import json\n",
    "\n",
    "def save_data(title,data):\n",
    "    with open(title, 'w', encoding='utf-8') as f:\n",
    "        json.dump(data, f, ensure_ascii=False, indent=2)"
   ]
  },
  {
   "cell_type": "code",
   "execution_count": 26,
   "metadata": {},
   "outputs": [],
   "source": [
    "# Importing all bikes individual json data and merging and saving\n",
    "\n",
    "import json\n",
    "\n",
    "bikes=[]\n",
    "for title in titles:\n",
    "    with open(title, encoding='utf-8') as f:\n",
    "        title = json.load(f)\n",
    "        bikes = bikes + title\n",
    "        \n",
    "save_data(\"bikes_all.json\", bikes)"
   ]
  },
  {
   "cell_type": "code",
   "execution_count": 27,
   "metadata": {},
   "outputs": [
    {
     "data": {
      "text/plain": [
       "2395"
      ]
     },
     "execution_count": 27,
     "metadata": {},
     "output_type": "execute_result"
    }
   ],
   "source": [
    "len(bikes)"
   ]
  },
  {
   "cell_type": "code",
   "execution_count": null,
   "metadata": {},
   "outputs": [],
   "source": []
  }
 ],
 "metadata": {
  "kernelspec": {
   "display_name": "Python 3",
   "language": "python",
   "name": "python3"
  },
  "language_info": {
   "codemirror_mode": {
    "name": "ipython",
    "version": 3
   },
   "file_extension": ".py",
   "mimetype": "text/x-python",
   "name": "python",
   "nbconvert_exporter": "python",
   "pygments_lexer": "ipython3",
   "version": "3.7.4"
  }
 },
 "nbformat": 4,
 "nbformat_minor": 2
}
