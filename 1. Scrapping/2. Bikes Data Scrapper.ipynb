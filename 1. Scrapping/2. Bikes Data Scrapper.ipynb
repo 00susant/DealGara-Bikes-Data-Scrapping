{
 "cells": [
  {
   "cell_type": "code",
   "execution_count": 1,
   "metadata": {},
   "outputs": [],
   "source": [
    "# Importing necessary libraries\n",
    "import requests\n",
    "from bs4 import BeautifulSoup as bs"
   ]
  },
  {
   "cell_type": "code",
   "execution_count": 2,
   "metadata": {},
   "outputs": [],
   "source": [
    "# SCRAPPER\n",
    "\n",
    "def scrapper(url):\n",
    "    # making the request and getting the sites information\n",
    "    r = requests.get(url)\n",
    "\n",
    "    # getting the page html content\n",
    "    webpage = bs(r.content)\n",
    "\n",
    "\n",
    "    info_box =webpage.find(\"div\", id=\"left-block\")\n",
    "\n",
    "\n",
    "    children_details = info_box.findChildren(\"div\" , recursive=False)\n",
    "\n",
    "\n",
    "    info_dict = {}\n",
    "    for index,detail in enumerate(children_details): #info_box.find_all('li')\n",
    "        #print(index)\n",
    "        #print(children)\n",
    "        #print(detail.get_text())\n",
    "\n",
    "        # the index 0 and 2 doesn't have the information we want\n",
    "        if index ==1 or index == 0 or index == 2:\n",
    "            #print(index)\n",
    "            #print(detail)\n",
    "            #print(detail.get_text())\n",
    "            #print(detail.get_text().splitlines())\n",
    "            if(len(detail.get_text().splitlines()) == 3):\n",
    "                info_dict['price'] = detail.get_text().splitlines()[2]\n",
    "\n",
    "        # the index 1 have the information of price\n",
    "        #elif index ==1:\n",
    "            #print(detail.get_text())\n",
    "            #print(url)\n",
    "            \n",
    "            #info_dict['price'] = detail.get_text().splitlines()[2]\n",
    "\n",
    "        # other index have rest of the required information about the vehicle\n",
    "        else:\n",
    "            for data in detail.find_all('li'):\n",
    "                #print(data.get_text())\n",
    "\n",
    "                # for details having ':' in between\n",
    "                if ':' in data.get_text():\n",
    "                    detail = data.get_text()\n",
    "                    if '\\n' in data.get_text():\n",
    "                        detail = detail.replace('\\n', '').strip()\n",
    "                        \n",
    "                    info_dict[detail.split(':')[0]] = detail.split(':')[1].strip()\n",
    "\n",
    "                # there empty 'li'  in the detail section. so to fiter it out, we use this elif condition\n",
    "                elif '   ' in data.get_text():\n",
    "\n",
    "                    # the whole text have many white spaces at beginning, so removed by .strip()\n",
    "                    # in these section data_title and value are in different lines, so we use .splitlines(), \n",
    "                    detail = data.get_text().strip().splitlines()\n",
    "                    #print((detail))\n",
    "                    #print(detail[1])\n",
    "\n",
    "                    # the value section have many white spaces at beginning, so removed by .strip()\n",
    "                    info_dict[detail[0]] = detail[1].strip() \n",
    "                    #info_dict[data.get_text().splitlines()[1]] = info_dict[data.get_text().splitlines()[1]]\n",
    "                    \n",
    "                    \n",
    "    return info_dict\n",
    "\n"
   ]
  },
  {
   "cell_type": "code",
   "execution_count": null,
   "metadata": {},
   "outputs": [],
   "source": []
  },
  {
   "cell_type": "code",
   "execution_count": null,
   "metadata": {},
   "outputs": [],
   "source": []
  },
  {
   "cell_type": "code",
   "execution_count": 28,
   "metadata": {},
   "outputs": [],
   "source": [
    "# LINK GENERATOR\n",
    "\n",
    "\n",
    "#Bajaj Bike: 'http://www.dealgara.com/search/category,33/bSold,1/item_condition,All/bikeMake,6/iPage,1'\n",
    "# Honda Bike: 'http://www.dealgara.com/search/category,33/bSold,1/item_condition,All/bikeMake,12/iPage,1'\n",
    "# Suzuki Bike: 'http://www.dealgara.com/search/category,33/bSold,1/item_condition,All/bikeMake,19/iPage,1'\n",
    "#TVS Bike: 'http://www.dealgara.com/search/category,33/bSold,1/item_condition,All/bikeMake,20/iPage,1'\n",
    "#Royal_Enfield Bike: 'http://www.dealgara.com/search/category,33/bSold,1/item_condition,All/bikeMake,17/iPage,1'\n",
    "#KTM Bike: 'http://www.dealgara.com/search/category,33/bSold,1/item_condition,All/bikeMake,1/iPage,1'\n",
    "#Yamaha Bike: 'http://www.dealgara.com/search/category,33/bSold,1/item_condition,All/bikeMake,22/iPage,1'\n",
    "#Hero Bike: 'http://www.dealgara.com/search/category,33/bSold,1/item_condition,All/bikeMake,11/iPage,1'\n",
    "\n",
    "bikes_info = []\n",
    "\n",
    "# linca ---> linker and scrapper\n",
    "def linca(url):\n",
    "    # making the request and getting the sites information\n",
    "    r = requests.get(url)\n",
    "\n",
    "    # getting the page html content\n",
    "    webpage = bs(r.content)\n",
    "    bikes = webpage.find_all(\"tr\",class_=[\"odd\",\"even\"])\n",
    "    #print((bikes))\n",
    "    for bike in bikes:\n",
    "        #pass\n",
    "        bike_link = bike.a['href']\n",
    "        #print(bike_link)\n",
    "        bike_info = scrapper(bike_link)\n",
    "        bikes_info.append(bike_info)\n",
    "        \n",
    "\n",
    "for i in range(1,15):\n",
    "    linca('http://www.dealgara.com/search/category,33/bSold,1/item_condition,All/bikeMake,11/iPage,'+str(i))\n",
    "    "
   ]
  },
  {
   "cell_type": "code",
   "execution_count": 29,
   "metadata": {},
   "outputs": [
    {
     "data": {
      "text/plain": [
       "[{'price': 'Rs. 40,000',\n",
       "  'Condition ': 'Used',\n",
       "  'Date ': '14/7/2020',\n",
       "  'Views ': '178',\n",
       "  'City': 'Kathmandu',\n",
       "  'City Area': 'Lazimpat',\n",
       "  'Address': 'Lazimpat',\n",
       "  'Motorbike Type ': 'Scooter',\n",
       "  'Make Year': '2009',\n",
       "  'Make': 'Hero',\n",
       "  'Model': 'Pleasure',\n",
       "  'Transmission': 'Manual',\n",
       "  'Engine size (cc)': '102',\n",
       "  'Colour': 'Black',\n",
       "  'Lot No.': '38',\n",
       "  'Kilometers': '32000'},\n",
       " {'price': 'Rs. 1,00,000',\n",
       "  'Condition ': 'Used',\n",
       "  'Date ': '19/3/2017',\n",
       "  'Views ': '98',\n",
       "  'City': '',\n",
       "  'City Area': '',\n",
       "  'Address': '',\n",
       "  'Motorbike Type ': 'Standard',\n",
       "  'Make Year': '2012',\n",
       "  'Make': 'Hero',\n",
       "  'Model': 'CBZ Xtreme',\n",
       "  'Transmission': 'Manual',\n",
       "  'Engine size (cc)': '149',\n",
       "  'Colour': 'Black',\n",
       "  'Lot No.': '4',\n",
       "  'Kilometers': '60000'}]"
      ]
     },
     "execution_count": 29,
     "metadata": {},
     "output_type": "execute_result"
    }
   ],
   "source": [
    "(bikes_info[0:2])"
   ]
  },
  {
   "cell_type": "code",
   "execution_count": 30,
   "metadata": {},
   "outputs": [
    {
     "data": {
      "text/plain": [
       "209"
      ]
     },
     "execution_count": 30,
     "metadata": {},
     "output_type": "execute_result"
    }
   ],
   "source": [
    "len(bikes_info)"
   ]
  },
  {
   "cell_type": "code",
   "execution_count": 31,
   "metadata": {},
   "outputs": [],
   "source": [
    "# Function: saving the above dictionary into json\n",
    "\n",
    "import json\n",
    "\n",
    "def save_data(title,data):\n",
    "    with open(title, 'w', encoding='utf-8') as f:\n",
    "        json.dump(data, f, ensure_ascii=False, indent=2)\n",
    "        \n",
    "# Saving the scrapped bike data\n",
    "\n",
    "save_data(\"Data/hero_bikes.json\", bikes_info) # python dictionary works best with json"
   ]
  },
  {
   "cell_type": "code",
   "execution_count": null,
   "metadata": {},
   "outputs": [],
   "source": []
  }
 ],
 "metadata": {
  "kernelspec": {
   "display_name": "Python 3",
   "language": "python",
   "name": "python3"
  },
  "language_info": {
   "codemirror_mode": {
    "name": "ipython",
    "version": 3
   },
   "file_extension": ".py",
   "mimetype": "text/x-python",
   "name": "python",
   "nbconvert_exporter": "python",
   "pygments_lexer": "ipython3",
   "version": "3.7.4"
  }
 },
 "nbformat": 4,
 "nbformat_minor": 2
}
